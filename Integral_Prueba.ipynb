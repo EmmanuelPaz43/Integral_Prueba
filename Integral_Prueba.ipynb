{
  "nbformat": 4,
  "nbformat_minor": 0,
  "metadata": {
    "colab": {
      "name": "Integral_Prueba.ipynb",
      "provenance": [],
      "authorship_tag": "ABX9TyOguD2EgbOHJMoCGKJghiFr",
      "include_colab_link": true
    },
    "kernelspec": {
      "name": "python3",
      "display_name": "Python 3"
    },
    "language_info": {
      "name": "python"
    }
  },
  "cells": [
    {
      "cell_type": "markdown",
      "metadata": {
        "id": "view-in-github",
        "colab_type": "text"
      },
      "source": [
        "<a href=\"https://colab.research.google.com/github/EmmanuelPaz43/Integral_Prueba/blob/main/Integral_Prueba.ipynb\" target=\"_parent\"><img src=\"https://colab.research.google.com/assets/colab-badge.svg\" alt=\"Open In Colab\"/></a>"
      ]
    },
    {
      "cell_type": "code",
      "metadata": {
        "colab": {
          "base_uri": "https://localhost:8080/"
        },
        "id": "FfB2Zzm_6jRr",
        "outputId": "627cb601-4258-446c-8dd1-cbffc055cd55"
      },
      "source": [
        "# Programa para calcular la infetral de f(t)=2t y evaluarla entre 0 y 5\n",
        "# Autor: Emmanuel Paz Córdova\n",
        "# Fecha: Septiembre 15, 2021\n",
        "\n",
        "import matplotlib.pyplot as plt\n",
        "import numpy as np\n",
        "import math\n",
        "\n",
        "def fprima(t): # Función f(t)=2t\n",
        "  return 2*t\n",
        "\n",
        "def f(t): # Función integrada F(t)=t^2\n",
        "  return  t**2\n",
        "\n",
        "def sumariemann(fprima, a, b, n):\n",
        "  sumval=0\n",
        "  h=(b-a)/n\n",
        "  sumval=h*sum(fprima(a+(i*h))for i in range(0, n))\n",
        "  return sumval\n",
        "\n",
        "print(\"¿Hasta que punto quieres calcular la integral?\")\n",
        "a=int(input(\"\"))\n",
        "print(\"¿Hasta que punto quiere calcular la integral?\")\n",
        "b=int(input(\"\"))\n",
        "print(\"Ingrese el número de particiones: \")\n",
        "n=int(input(\"\"))\n",
        "\n",
        "integral_exacta=f(b)-f(a)\n",
        "print(\"La integral numérica es: \", sumariemann(fprima, a, b, n))\n",
        "print(\"La integral exacta es: \", integral_exacta)"
      ],
      "execution_count": 8,
      "outputs": [
        {
          "output_type": "stream",
          "name": "stdout",
          "text": [
            "¿Hasta que punto quieres calcular la integral?\n",
            "0\n",
            "¿Hasta que punto quiere calcular la integral?\n",
            "5\n",
            "Ingrese el número de particiones: \n",
            "100\n",
            "La integral numérica es:  24.75\n",
            "La integral exacta es:  25\n"
          ]
        }
      ]
    }
  ]
}